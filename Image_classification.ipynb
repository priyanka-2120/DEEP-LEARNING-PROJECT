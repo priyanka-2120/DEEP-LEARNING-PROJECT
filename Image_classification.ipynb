{
  "cells": [
    {
      "cell_type": "code",
      "execution_count": null,
      "id": "aad66c7a-e1db-4e8f-87d6-dba9baa47475",
      "metadata": {
        "id": "aad66c7a-e1db-4e8f-87d6-dba9baa47475"
      },
      "outputs": [],
      "source": [
        "import numpy as np\n",
        "from PIL import Image\n",
        "import torch\n",
        "import torch.nn as nn\n",
        "import torch.nn.functional as F\n",
        "import torch.optim as optim\n",
        "import torchvision\n",
        "import torchvision.transforms as transforms\n"
      ]
    },
    {
      "cell_type": "code",
      "execution_count": null,
      "id": "5ac87867-0f4d-4481-b85e-0af06f93ed34",
      "metadata": {
        "id": "5ac87867-0f4d-4481-b85e-0af06f93ed34"
      },
      "outputs": [],
      "source": [
        "transform=transforms.Compose([\n",
        "    transforms.ToTensor(),\n",
        "    transforms.Normalize((0.5,0.5,0.5),(0.5,0.5,0.5))\n",
        "])\n"
      ]
    },
    {
      "cell_type": "code",
      "execution_count": null,
      "id": "113e9c27-d307-4daa-b0a1-9ce64f248d0a",
      "metadata": {
        "id": "113e9c27-d307-4daa-b0a1-9ce64f248d0a",
        "outputId": "0962f728-ccb4-4fc4-bc9a-959cd4ded051"
      },
      "outputs": [
        {
          "name": "stdout",
          "output_type": "stream",
          "text": [
            "Files already downloaded and verified\n",
            "Files already downloaded and verified\n"
          ]
        }
      ],
      "source": [
        "train_data=torchvision.datasets.CIFAR10(root='./data',train=True,transform=transform,download=True)\n",
        "test_data=torchvision.datasets.CIFAR10(root='./data',train=False,transform=transform,download=True)"
      ]
    },
    {
      "cell_type": "code",
      "execution_count": null,
      "id": "4d66dbc3-25cc-4547-abd5-6bdb7f81bee0",
      "metadata": {
        "id": "4d66dbc3-25cc-4547-abd5-6bdb7f81bee0"
      },
      "outputs": [],
      "source": [
        "train_loader=torch.utils.data.DataLoader(train_data,batch_size=32,shuffle=True,num_workers=2)\n",
        "test_loader=torch.utils.data.DataLoader(test_data,batch_size=32,shuffle=True,num_workers=2)"
      ]
    },
    {
      "cell_type": "code",
      "execution_count": null,
      "id": "65de5dce-4990-422a-9c94-8d1aad340d86",
      "metadata": {
        "id": "65de5dce-4990-422a-9c94-8d1aad340d86"
      },
      "outputs": [],
      "source": [
        "image,label=train_data[0]"
      ]
    },
    {
      "cell_type": "code",
      "execution_count": null,
      "id": "5f3b5527-3d76-42d9-b553-a127a8fd17e8",
      "metadata": {
        "id": "5f3b5527-3d76-42d9-b553-a127a8fd17e8",
        "outputId": "15931b40-1389-4213-a5dd-9a4a9fe5c979"
      },
      "outputs": [
        {
          "data": {
            "text/plain": [
              "tensor([[[-0.5373, -0.6627, -0.6078,  ...,  0.2392,  0.1922,  0.1608],\n",
              "         [-0.8745, -1.0000, -0.8588,  ..., -0.0353, -0.0667, -0.0431],\n",
              "         [-0.8039, -0.8745, -0.6157,  ..., -0.0745, -0.0588, -0.1451],\n",
              "         ...,\n",
              "         [ 0.6314,  0.5765,  0.5529,  ...,  0.2549, -0.5608, -0.5843],\n",
              "         [ 0.4118,  0.3569,  0.4588,  ...,  0.4431, -0.2392, -0.3490],\n",
              "         [ 0.3882,  0.3176,  0.4039,  ...,  0.6941,  0.1843, -0.0353]],\n",
              "\n",
              "        [[-0.5137, -0.6392, -0.6235,  ...,  0.0353, -0.0196, -0.0275],\n",
              "         [-0.8431, -1.0000, -0.9373,  ..., -0.3098, -0.3490, -0.3176],\n",
              "         [-0.8118, -0.9451, -0.7882,  ..., -0.3412, -0.3412, -0.4275],\n",
              "         ...,\n",
              "         [ 0.3333,  0.2000,  0.2627,  ...,  0.0431, -0.7569, -0.7333],\n",
              "         [ 0.0902, -0.0353,  0.1294,  ...,  0.1608, -0.5137, -0.5843],\n",
              "         [ 0.1294,  0.0118,  0.1137,  ...,  0.4431, -0.0745, -0.2784]],\n",
              "\n",
              "        [[-0.5059, -0.6471, -0.6627,  ..., -0.1529, -0.2000, -0.1922],\n",
              "         [-0.8431, -1.0000, -1.0000,  ..., -0.5686, -0.6078, -0.5529],\n",
              "         [-0.8353, -1.0000, -0.9373,  ..., -0.6078, -0.6078, -0.6706],\n",
              "         ...,\n",
              "         [-0.2471, -0.7333, -0.7961,  ..., -0.4510, -0.9451, -0.8431],\n",
              "         [-0.2471, -0.6706, -0.7647,  ..., -0.2627, -0.7333, -0.7333],\n",
              "         [-0.0902, -0.2627, -0.3176,  ...,  0.0980, -0.3412, -0.4353]]])"
            ]
          },
          "execution_count": 7,
          "metadata": {},
          "output_type": "execute_result"
        }
      ],
      "source": [
        "image"
      ]
    },
    {
      "cell_type": "code",
      "execution_count": null,
      "id": "9ee33dd1-070b-474f-9f4a-0561298ab363",
      "metadata": {
        "id": "9ee33dd1-070b-474f-9f4a-0561298ab363",
        "outputId": "99dae5d6-4dcf-49da-92da-a0aa2cc8a58f"
      },
      "outputs": [
        {
          "data": {
            "text/plain": [
              "torch.Size([3, 32, 32])"
            ]
          },
          "execution_count": 8,
          "metadata": {},
          "output_type": "execute_result"
        }
      ],
      "source": [
        "image.size()"
      ]
    },
    {
      "cell_type": "code",
      "execution_count": null,
      "id": "81799559-f1aa-4178-a708-4c1fbc168650",
      "metadata": {
        "id": "81799559-f1aa-4178-a708-4c1fbc168650"
      },
      "outputs": [],
      "source": [
        "class_names=['plane','car','bird','cat','deer','dog','frog','horse','ship','truck']"
      ]
    },
    {
      "cell_type": "code",
      "execution_count": null,
      "id": "52b0ed6a-dcd0-42fe-8061-7b0d4f1474ea",
      "metadata": {
        "id": "52b0ed6a-dcd0-42fe-8061-7b0d4f1474ea"
      },
      "outputs": [],
      "source": [
        "class NeuralNet(nn.Module):\n",
        "\n",
        "    def __init__(self):\n",
        "        super().__init__()\n",
        "\n",
        "        self.conv1 = nn.Conv2d(3, 12, 5)\n",
        "        self.pool = nn.MaxPool2d(2,2)\n",
        "        self.conv2 = nn.Conv2d(12,24,5)\n",
        "        self.fc1 = nn.Linear(24*5*5,120)\n",
        "        self.fc2 = nn.Linear(120, 84)\n",
        "        self.fc3= nn.Linear(84, 10)\n",
        "    def forward(self, x):\n",
        "        x = self.pool(F.relu(self.conv1(x)))\n",
        "        x = self.pool(F.relu(self.conv2(x)))\n",
        "        x = torch.flatten(x, 1)\n",
        "        x = F.relu(self.fc1(x))\n",
        "        x = F.relu(self.fc2(x))\n",
        "        x = self.fc3(x)\n",
        "        return x\n",
        ""
      ]
    },
    {
      "cell_type": "code",
      "execution_count": null,
      "id": "0fdaae62-a140-401c-9fa8-e3b87e678b16",
      "metadata": {
        "id": "0fdaae62-a140-401c-9fa8-e3b87e678b16"
      },
      "outputs": [],
      "source": [
        "net = NeuralNet()\n",
        "loss_function = nn.CrossEntropyLoss()\n",
        "optimizer = optim.SGD(net.parameters(), lr=0.001, momentum=0.9)\n"
      ]
    },
    {
      "cell_type": "code",
      "execution_count": null,
      "id": "705b31ee-b9cf-422a-b4eb-0abbfe9e1fb6",
      "metadata": {
        "id": "705b31ee-b9cf-422a-b4eb-0abbfe9e1fb6",
        "outputId": "dfe9c482-f968-47d3-aa3a-29dc805da43a"
      },
      "outputs": [
        {
          "name": "stdout",
          "output_type": "stream",
          "text": [
            "Training epoch 0...\n",
            "Loss: 2.1426\n",
            "Training epoch 1...\n",
            "Loss: 1.7158\n",
            "Training epoch 2...\n",
            "Loss: 1.5187\n",
            "Training epoch 3...\n",
            "Loss: 1.3860\n",
            "Training epoch 4...\n",
            "Loss: 1.2832\n",
            "Training epoch 5...\n",
            "Loss: 1.2072\n",
            "Training epoch 6...\n",
            "Loss: 1.1458\n",
            "Training epoch 7...\n",
            "Loss: 1.0877\n",
            "Training epoch 8...\n",
            "Loss: 1.0408\n",
            "Training epoch 9...\n",
            "Loss: 0.9957\n",
            "Training epoch 10...\n",
            "Loss: 0.9574\n",
            "Training epoch 11...\n",
            "Loss: 0.9137\n",
            "Training epoch 12...\n",
            "Loss: 0.8831\n",
            "Training epoch 13...\n",
            "Loss: 0.8452\n",
            "Training epoch 14...\n",
            "Loss: 0.8125\n",
            "Training epoch 15...\n",
            "Loss: 0.7822\n",
            "Training epoch 16...\n",
            "Loss: 0.7531\n",
            "Training epoch 17...\n",
            "Loss: 0.7221\n",
            "Training epoch 18...\n",
            "Loss: 0.6979\n",
            "Training epoch 19...\n",
            "Loss: 0.6719\n",
            "Training epoch 20...\n",
            "Loss: 0.6480\n",
            "Training epoch 21...\n",
            "Loss: 0.6248\n",
            "Training epoch 22...\n",
            "Loss: 0.5993\n",
            "Training epoch 23...\n",
            "Loss: 0.5790\n",
            "Training epoch 24...\n",
            "Loss: 0.5580\n",
            "Training epoch 25...\n",
            "Loss: 0.5335\n",
            "Training epoch 26...\n",
            "Loss: 0.5112\n",
            "Training epoch 27...\n",
            "Loss: 0.4900\n",
            "Training epoch 28...\n",
            "Loss: 0.4742\n",
            "Training epoch 29...\n",
            "Loss: 0.4513\n"
          ]
        }
      ],
      "source": [
        "for epoch in range(30):\n",
        "    print(f'Training epoch {epoch}...')\n",
        "\n",
        "    running_loss = 0.0\n",
        "\n",
        "    for i, data in enumerate(train_loader):\n",
        "        inputs, labels = data\n",
        "\n",
        "        optimizer.zero_grad()\n",
        "        outputs = net(inputs)\n",
        "\n",
        "        loss = loss_function(outputs, labels)\n",
        "        loss.backward()\n",
        "        optimizer.step()\n",
        "\n",
        "        running_loss += loss.item()\n",
        "    print(f'Loss: {running_loss / len(train_loader):.4f}')"
      ]
    },
    {
      "cell_type": "code",
      "execution_count": null,
      "id": "215cd0eb-9be0-4db2-b256-1f1262feef4e",
      "metadata": {
        "id": "215cd0eb-9be0-4db2-b256-1f1262feef4e"
      },
      "outputs": [],
      "source": [
        "torch.save(net.state_dict(), 'trained_net.pth')\n"
      ]
    },
    {
      "cell_type": "code",
      "execution_count": null,
      "id": "1423223f-d2e7-4041-a424-c36171631f46",
      "metadata": {
        "id": "1423223f-d2e7-4041-a424-c36171631f46",
        "outputId": "62617a7f-e463-485f-8899-a0e7e02a9923"
      },
      "outputs": [
        {
          "name": "stderr",
          "output_type": "stream",
          "text": [
            "C:\\Users\\Dinesh kumar\\AppData\\Local\\Temp\\ipykernel_9608\\1690949604.py:2: FutureWarning: You are using `torch.load` with `weights_only=False` (the current default value), which uses the default pickle module implicitly. It is possible to construct malicious pickle data which will execute arbitrary code during unpickling (See https://github.com/pytorch/pytorch/blob/main/SECURITY.md#untrusted-models for more details). In a future release, the default value for `weights_only` will be flipped to `True`. This limits the functions that could be executed during unpickling. Arbitrary objects will no longer be allowed to be loaded via this mode unless they are explicitly allowlisted by the user via `torch.serialization.add_safe_globals`. We recommend you start setting `weights_only=True` for any use case where you don't have full control of the loaded file. Please open an issue on GitHub for any issues related to this experimental feature.\n",
            "  net.load_state_dict(torch.load('trained_net.pth'))\n"
          ]
        },
        {
          "data": {
            "text/plain": [
              "<All keys matched successfully>"
            ]
          },
          "execution_count": 15,
          "metadata": {},
          "output_type": "execute_result"
        }
      ],
      "source": [
        "net = NeuralNet()\n",
        "net.load_state_dict(torch.load('trained_net.pth'))"
      ]
    },
    {
      "cell_type": "code",
      "execution_count": null,
      "id": "132f011f-2f17-4089-a473-db63b7960474",
      "metadata": {
        "id": "132f011f-2f17-4089-a473-db63b7960474",
        "outputId": "314c416c-39a9-40ee-badd-5f3223bb16d9"
      },
      "outputs": [
        {
          "name": "stdout",
          "output_type": "stream",
          "text": [
            "Accuracy: 68.58%\n"
          ]
        }
      ],
      "source": [
        "correct = 0\n",
        "total = 0\n",
        "net.eval()\n",
        "with torch.no_grad():\n",
        "    for data in test_loader:\n",
        "        images, labels = data\n",
        "        outputs = net(images)\n",
        "        _, predicted = torch.max(outputs,1)\n",
        "        total += labels.size(0)\n",
        "        correct += (predicted == labels).sum().item()\n",
        "\n",
        "accuracy = 100* correct / total\n",
        "print(f'Accuracy: {accuracy}%')"
      ]
    },
    {
      "cell_type": "code",
      "execution_count": null,
      "id": "c7079d33-8c07-4811-bebd-f3af71af5d38",
      "metadata": {
        "id": "c7079d33-8c07-4811-bebd-f3af71af5d38",
        "outputId": "58135264-f081-4f17-d95e-82c456313278"
      },
      "outputs": [
        {
          "name": "stdout",
          "output_type": "stream",
          "text": [
            "Prediction: plane\n",
            "Prediction: dog\n",
            "Prediction: bird\n"
          ]
        }
      ],
      "source": [
        "new_transform = transforms.Compose([\n",
        "    transforms.Resize((32,32)),\n",
        "    transforms.ToTensor(),\n",
        "    transforms.Normalize((0.5,0.5,0.5), (0.5,0.5,0.5))\n",
        "])\n",
        "\n",
        "def load_image(image_path):\n",
        "    image = Image.open(image_path)\n",
        "    image = new_transform(image)\n",
        "    image = image.unsqueeze(0)\n",
        "    return image\n",
        "image_paths = ['aero.jpg','dog.jpg','bird.jpeg']\n",
        "images = [load_image(img) for img in image_paths]\n",
        "net.eval()\n",
        "with torch.no_grad():\n",
        "    for image in images:\n",
        "        output = net(image)\n",
        "        _, predicted = torch.max(output, 1)\n",
        "        print(f'Prediction: {class_names[predicted.item()]}')"
      ]
    },
    {
      "cell_type": "code",
      "execution_count": null,
      "id": "581ac039-aa93-4a60-bafa-3265cfd206ee",
      "metadata": {
        "id": "581ac039-aa93-4a60-bafa-3265cfd206ee"
      },
      "outputs": [],
      "source": []
    }
  ],
  "metadata": {
    "kernelspec": {
      "display_name": "Python 3 (ipykernel)",
      "language": "python",
      "name": "python3"
    },
    "language_info": {
      "codemirror_mode": {
        "name": "ipython",
        "version": 3
      },
      "file_extension": ".py",
      "mimetype": "text/x-python",
      "name": "python",
      "nbconvert_exporter": "python",
      "pygments_lexer": "ipython3",
      "version": "3.12.7"
    },
    "colab": {
      "provenance": []
    }
  },
  "nbformat": 4,
  "nbformat_minor": 5
}